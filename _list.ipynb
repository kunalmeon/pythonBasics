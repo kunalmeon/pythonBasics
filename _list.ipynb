{
 "cells": [
  {
   "cell_type": "code",
   "execution_count": 6,
   "id": "3f235ffb",
   "metadata": {},
   "outputs": [
    {
     "name": "stdout",
     "output_type": "stream",
     "text": [
      "1 item we have is pizza\n",
      "2 item we have is burger\n",
      "3 item we have is momo\n",
      "4 item we have is grilled chicken\n",
      "5 item we have is chicken rolls\n"
     ]
    }
   ],
   "source": [
    "hotelMenu=[\"pizza\",\"burger\",\"momo\",\"grilled chicken\"]\n",
    "revisedMenu1=[]\n",
    "for menuItems in hotelMenu:\n",
    "    revisedMenu1.extend(menuItems)\n",
    "revisedMenu2=hotelMenu[:]\n",
    "todaysSpecial=[\"chicken rolls\"]\n",
    "revisedMenu2.extend(todaysSpecial)\n",
    "for menuItems in revisedMenu2:\n",
    "        print(f\"{revisedMenu2.index(menuItems)+1} item we have is {menuItems}\")\n",
    "firstOrder=revisedMenu2[0:2]\n",
    "\n",
    "        "
   ]
  },
  {
   "cell_type": "code",
   "execution_count": null,
   "id": "c4ff6516",
   "metadata": {},
   "outputs": [],
   "source": []
  }
 ],
 "metadata": {
  "kernelspec": {
   "display_name": "Python 3 (ipykernel)",
   "language": "python",
   "name": "python3"
  },
  "language_info": {
   "codemirror_mode": {
    "name": "ipython",
    "version": 3
   },
   "file_extension": ".py",
   "mimetype": "text/x-python",
   "name": "python",
   "nbconvert_exporter": "python",
   "pygments_lexer": "ipython3",
   "version": "3.9.12"
  }
 },
 "nbformat": 4,
 "nbformat_minor": 5
}
