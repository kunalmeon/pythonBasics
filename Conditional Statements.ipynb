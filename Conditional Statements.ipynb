{
 "cells": [
  {
   "cell_type": "code",
   "execution_count": 5,
   "id": "84eca8c7",
   "metadata": {},
   "outputs": [
    {
     "name": "stdout",
     "output_type": "stream",
     "text": [
      "Let's get started\n",
      "Happy Birthday to you\n"
     ]
    }
   ],
   "source": [
    "# This file contains all the learning from a book called \"Think Python\"\n",
    "print(\"Let's get started\")\n"
   ]
  },
  {
   "cell_type": "code",
   "execution_count": null,
   "id": "7b27be05",
   "metadata": {},
   "outputs": [
    {
     "name": "stdout",
     "output_type": "stream",
     "text": [
      "The name is Karan and lives in 4 KELVING ROAD BEDFORD PARK with contact number of 61415230797 and working with the wage of24.87 at the age of 30\n"
     ]
    }
   ],
   "source": [
    "# all data types similar to other programming language but the difference is no data type is required to mention in variable\n",
    "name=\"Karan\"\n",
    "address=\"4 Kelving Road Bedford Park\"\n",
    "phone=+61415230797\n",
    "wages=24.87\n",
    "age=30\n",
    "print(f\"The name is {name.title()} and lives in {address.upper()} with contact number of {phone} and working with the wage of{wages} at the age of {age}\")"
   ]
  },
  {
   "cell_type": "code",
   "execution_count": 3,
   "id": "b57958eb",
   "metadata": {},
   "outputs": [
    {
     "name": "stdout",
     "output_type": "stream",
     "text": [
      "['Suman', 'Niraj', 'Samir', 'Ahabab']\n"
     ]
    }
   ],
   "source": [
    "listOfPeople=[\"karan\",\"Suman\",\"Niraj\",\"Samir\",\"Ahabab\"]\n",
    "print(listOfPeople[1:])\n"
   ]
  },
  {
   "cell_type": "code",
   "execution_count": 2,
   "id": "26975426",
   "metadata": {},
   "outputs": [
    {
     "name": "stdout",
     "output_type": "stream",
     "text": [
      "hello karan  hello karan  hello karan  \n"
     ]
    }
   ],
   "source": [
    "# Out of all mathematical signs we can use + and * with the strings. + is used for concatination and * will display that many times\n",
    "print(\"hello karan  \" *3)"
   ]
  },
  {
   "cell_type": "code",
   "execution_count": 10,
   "id": "1aecb5f4-90f7-4fba-80b6-23783e4c8789",
   "metadata": {},
   "outputs": [
    {
     "name": "stdout",
     "output_type": "stream",
     "text": [
      "<class 'range'>\n",
      "5\n",
      "6\n",
      "7\n"
     ]
    }
   ],
   "source": [
    "carPrice=range(5,8)\n",
    "print(type(carPrice))\n",
    "for i in carPrice:\n",
    "    print(i)"
   ]
  },
  {
   "cell_type": "code",
   "execution_count": 13,
   "id": "0a19f92a-29d2-4f83-b04b-6468b43a20f1",
   "metadata": {},
   "outputs": [
    {
     "name": "stdout",
     "output_type": "stream",
     "text": [
      "The AI will be held at Tonsley\n",
      "the ML will be held at Bedford Park\n",
      "This subject will be taught online\n"
     ]
    }
   ],
   "source": [
    "def semester3(subjects,location):\n",
    "    \"\"\"This function describes all the subjects that will be held on semester 3 with their location\"\"\"\n",
    "    for subject in subjects:\n",
    "        if(subject==\"AI\"):\n",
    "            print(f\"The {subject} will be held at {location[0]}\")\n",
    "        elif(subject==\"ML\"):\n",
    "            print(f\"the {subject} will be held at {location[1]}\")\n",
    "        else:\n",
    "            print(\"This subject will be taught online\")\n",
    "semester3([\"AI\",\"ML\",\"ICT\"],[\"Tonsley\",\"Bedford Park\"])"
   ]
  },
  {
   "cell_type": "code",
   "execution_count": 42,
   "id": "f6107c69-5098-4f15-acd2-8df90817b4b2",
   "metadata": {},
   "outputs": [
    {
     "name": "stdin",
     "output_type": "stream",
     "text": [
      "Please enter at which time you wake up in the moarning? 2\n"
     ]
    }
   ],
   "source": [
    "# \"pass\" is very useful when we donot know the task inside the condition body\n",
    "# list is like array but the index number is given inside the small brackets\n",
    "time=int(input(\"Please enter at which time you wake up in the moarning?\"))\n",
    "if(time>=3):\n",
    "    taskToDo=[\"Drink warm water\", \"cook rice\", \"get freshed\", \"Have medicine\", \"Do Yoga\",\"Study\"]\n",
    "    for task in taksToDo:\n",
    "        taskNumber=1\n",
    "        \n",
    "        print(f\" {taksToDo.index(task)+1} task is to {task} \")\n",
    "elif(time>5):\n",
    "    taskToDo=[\"Get freshed\",\"make breakfast\",\"Have medication\"]\n",
    "    for task in taskToDo:\n",
    "        \n",
    "        print(f\" {taskToDo.index(task)+1} task is to {task} \")\n",
    "\n",
    "elif(time<3):\n",
    "    pass\n",
    "\n",
    "else: print(\"Book the cab and go for the work\")"
   ]
  },
  {
   "cell_type": "code",
   "execution_count": 43,
   "id": "511bc18c-bf08-4a3f-b96b-73c2fc8ced84",
   "metadata": {},
   "outputs": [
    {
     "name": "stdin",
     "output_type": "stream",
     "text": [
      "Please enter your gender fe\n"
     ]
    },
    {
     "name": "stdout",
     "output_type": "stream",
     "text": [
      "Since you are female please follow the red line\n"
     ]
    }
   ],
   "source": [
    "# Alternative execuation of if loop means if this not this then else if male else female\n",
    "gender=input(\"Please enter your gender\")\n",
    "if(gender.lower()==\"male\"):\n",
    "    print(\"Follow the green line\")\n",
    "else: print(\"Since you are female please follow the red line\")\n",
    "\n"
   ]
  },
  {
   "cell_type": "code",
   "execution_count": 4,
   "id": "34d53aa9-2749-46f1-9d62-36ad2b65651d",
   "metadata": {},
   "outputs": [
    {
     "name": "stdout",
     "output_type": "stream",
     "text": [
      "hello\n"
     ]
    },
    {
     "name": "stdin",
     "output_type": "stream",
     "text": [
      "enter number 3\n",
      "Enter the rough amount from uber Eats 6000\n",
      "Enter income from coles and Estia 25000\n"
     ]
    },
    {
     "name": "stdout",
     "output_type": "stream",
     "text": [
      "The chances are YOU WILL GET some money back\n"
     ]
    }
   ],
   "source": [
    "luckyNumber=int(input(\"enter number\"))\n",
    "uberIncome=int(input(\"Enter the rough amount from uber Eats\"))\n",
    "\n",
    "TfnIncome=int(input(\"Enter income from coles and Estia\"))\n",
    "if(uberIncome==TfnIncome):\n",
    "    print(\"The changes are high for YOU TO PAY\")\n",
    "else:\n",
    "    if(uberIncome<TfnIncome):\n",
    "        print(\"The chances are YOU WILL GET some money back\")\n",
    "    else:\n",
    "        print(\"YOU NEED TO PAY\")\n",
    "    \n",
    "    "
   ]
  },
  {
   "cell_type": "code",
   "execution_count": 9,
   "id": "78c2d6ad-bb3d-4cbf-8718-816896a24f5e",
   "metadata": {},
   "outputs": [
    {
     "name": "stdin",
     "output_type": "stream",
     "text": [
      "Please Enter your age 30\n",
      "Please Enter your Visa Status TR\n"
     ]
    },
    {
     "name": "stdout",
     "output_type": "stream",
     "text": [
      "Man You Should Get Married Now\n"
     ]
    }
   ],
   "source": [
    "age=int(input(\"Please Enter your age\"))\n",
    "residencyStatus=input(\"Please Enter your Visa Status\")\n",
    "if 25<age<=30 and residencyStatus==\"TR\":\n",
    "    print(\"Man You Should Get Married Now\")\n",
    "elif 25<age<=30 and residencyStatus==\"Student Visa\":\n",
    "    print(\"You need to wait at least one more year\")\n",
    "else: print(\"You can wait for couple of years\")\n",
    "\n"
   ]
  },
  {
   "cell_type": "code",
   "execution_count": null,
   "id": "df16d103-eb31-4460-930f-1e6c4ad41d14",
   "metadata": {},
   "outputs": [],
   "source": []
  }
 ],
 "metadata": {
  "kernelspec": {
   "display_name": "Python 3 (ipykernel)",
   "language": "python",
   "name": "python3"
  },
  "language_info": {
   "codemirror_mode": {
    "name": "ipython",
    "version": 3
   },
   "file_extension": ".py",
   "mimetype": "text/x-python",
   "name": "python",
   "nbconvert_exporter": "python",
   "pygments_lexer": "ipython3",
   "version": "3.9.12"
  }
 },
 "nbformat": 4,
 "nbformat_minor": 5
}
