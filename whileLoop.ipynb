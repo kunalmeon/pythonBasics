{
 "cells": [
  {
   "cell_type": "code",
   "execution_count": null,
   "id": "0523dd3c",
   "metadata": {},
   "outputs": [],
   "source": [
    "shopping=True\n",
    "listOfItemBought=[]\n",
    "\n",
    "while shopping:\n",
    "    itemBought=input(\"Enter first item to buy\\n Press 'q' to stop shopping\\n\")\n",
    "   \n",
    "    if(itemBought.lower()=='q'):\n",
    "        print(f\"total items bought today is {len(listOfItemBought)}\")   \n",
    "        shopping=False\n",
    "    if(itemBought!='q' and 'Q'): \n",
    "        listOfItemBought.append(itemBought)\n",
    "\n",
    "for items in listOfItemBought:\n",
    "    print(f\"The {listOfItemBought.index(items)+1} item we bought was {items}\")"
   ]
  },
  {
   "cell_type": "code",
   "execution_count": null,
   "id": "94edf36c",
   "metadata": {},
   "outputs": [],
   "source": []
  }
 ],
 "metadata": {
  "kernelspec": {
   "display_name": "Python 3 (ipykernel)",
   "language": "python",
   "name": "python3"
  }
 },
 "nbformat": 4,
 "nbformat_minor": 5
}
